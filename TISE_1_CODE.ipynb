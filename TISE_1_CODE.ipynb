{
 "cells": [
  {
   "cell_type": "code",
   "execution_count": 2,
   "metadata": {},
   "outputs": [
    {
     "data": {
      "application/vnd.jupyter.widget-view+json": {
       "model_id": "6d76a191607f49609d04ea2c3263696c",
       "version_major": 2,
       "version_minor": 0
      },
      "text/plain": [
       "VBox(children=(Figure(animation_duration=1000, axes=[Axis(scale=LinearScale()), Axis(orientation='vertical', s…"
      ]
     },
     "metadata": {},
     "output_type": "display_data"
    },
    {
     "data": {
      "application/vnd.jupyter.widget-view+json": {
       "model_id": "bbd20a4924754ef49a27877ee548019b",
       "version_major": 2,
       "version_minor": 0
      },
      "text/plain": [
       "interactive(children=(FloatSlider(value=5.0, description='width', max=10.0, min=0.5, step=0.5), IntSlider(valu…"
      ]
     },
     "metadata": {},
     "output_type": "display_data"
    }
   ],
   "source": [
    "import numpy as np\n",
    "from bqplot import pyplot as plt\n",
    "from ipywidgets import*\n",
    "from IPython.display import display\n",
    "\n",
    "def pot(c,wd,pot1):\n",
    "    if(c<=-float(wd)/2 or c>=float(wd)/2 ):\n",
    "        return 0;\n",
    "    \n",
    "    \n",
    "    else:\n",
    "        return -pot1;\n",
    "N = 450   \n",
    "def kdirac(i,j):\n",
    "    if(i==j):\n",
    "        return 1;\n",
    "    else:\n",
    "        return 0;\n",
    "x = np.linspace(-15,15,N)\n",
    "dx = x[2]-x[1]\n",
    "def hamil(i,j,VPO):\n",
    "    v =(-kdirac(i+1,j)+2*kdirac(i,j)-kdirac(i-1,j))/(dx**2) + kdirac(i,j)*VPO;\n",
    "    return v;\n",
    " \n",
    "\n",
    "figure = plt.figure(1)\n",
    "figure.animation_duration = 1000\n",
    "figure.layout= {'width':'900px','height':'620px'}\n",
    "plt.clear()    \n",
    "plot = plt.plot(x,x)\n",
    "\n",
    " \n",
    "plt.show()\n",
    "def destroy(WSD):\n",
    "    plt.clear()\n",
    "    plot = plt.plot(x,WSD)\n",
    "    return plot;\n",
    "def gh(EVe,EVal,N):\n",
    "    print(\" Energy Eigen_Values are \" ,EVal[:N])\n",
    "\n",
    "    for i in range(0,N):\n",
    "             \n",
    "        vb =  ((EVe[:,i])*5)+EVal[i] +i*2\n",
    "    #plt.ylim(-10,-8)\n",
    "        plt.plot(x,vb,colors = ['Green'])\n",
    "        \n",
    "        \n",
    "s = 0     \n",
    "def fg(width,V0,N_E,ctrl):\n",
    "    global plot\n",
    "    pot_array = np.array([pot(x1,width,V0) for x1 in x])\n",
    "   \n",
    "    plot.y = pot_array\n",
    "    \n",
    "    \n",
    "    Ham = np.zeros(N*N).reshape(N,N)\n",
    "   \n",
    "    \n",
    "    if(ctrl == 1):\n",
    "        for i in range(N):\n",
    "            for j in range(N):\n",
    "                Ham[i,j] = hamil(i,j,pot_array[i])\n",
    "        Eigval,Eigvect = np.linalg.eigh(Ham)\n",
    "\n",
    "        gh(Eigvect,Eigval,N_E);\n",
    "        \n",
    "    elif(ctrl==2):\n",
    "                                 \n",
    "        plot = destroy(pot_array)\n",
    "\n",
    "        \n",
    "    else:\n",
    "        return;\n",
    "\n",
    "        \n",
    "        \n",
    "    \n",
    "        \n",
    "    \n",
    "ws = interactive(fg,width = (0.5,10,0.5),V0=(1,100,2),\n",
    "                 N_E = IntSlider(description = 'EigenVector numbers ',value = 10,max = 50,min = 0,layout = {'width':'600px'})\n",
    "                 ,ctrl = ToggleButtons(options=[('Modifying well',0),('plot',1), ('reset',2)],value = 0))    \n",
    "display(ws)\n",
    "\n",
    " \n",
    "    \n",
    "             \n",
    "\n",
    "    \n",
    "    \n",
    "\n",
    "    \n",
    "    \n",
    "\n",
    "    \n",
    "    "
   ]
  }
 ],
 "metadata": {
  "kernelspec": {
   "display_name": "Python 3",
   "language": "python",
   "name": "python3"
  },
  "language_info": {
   "codemirror_mode": {
    "name": "ipython",
    "version": 3
   },
   "file_extension": ".py",
   "mimetype": "text/x-python",
   "name": "python",
   "nbconvert_exporter": "python",
   "pygments_lexer": "ipython3",
   "version": "3.7.7"
  },
  "latex_envs": {
   "LaTeX_envs_menu_present": true,
   "autoclose": false,
   "autocomplete": false,
   "bibliofile": "biblio.bib",
   "cite_by": "apalike",
   "current_citInitial": 1,
   "eqLabelWithNumbers": true,
   "eqNumInitial": 1,
   "hotkeys": {
    "equation": "Ctrl-E",
    "itemize": "Ctrl-I"
   },
   "labels_anchors": false,
   "latex_user_defs": false,
   "report_style_numbering": false,
   "user_envs_cfg": false
  }
 },
 "nbformat": 4,
 "nbformat_minor": 2
}
