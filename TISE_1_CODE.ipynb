{
 "cells": [
  {
   "cell_type": "markdown",
   "metadata": {},
   "source": [
    "##### <center> Please wait for few seconds"
   ]
  },
  {
   "cell_type": "code",
   "execution_count": 4,
   "metadata": {},
   "outputs": [
    {
     "data": {
      "application/vnd.jupyter.widget-view+json": {
       "model_id": "7dc71c76cbee4726be843d42656420a7",
       "version_major": 2,
       "version_minor": 0
      },
      "text/plain": [
       "VBox(children=(Figure(animation_duration=1000, axes=[Axis(scale=LinearScale()), Axis(orientation='vertical', s…"
      ]
     },
     "metadata": {},
     "output_type": "display_data"
    },
    {
     "data": {
      "application/vnd.jupyter.widget-view+json": {
       "model_id": "61a1fd8677614580865021dc24d1deac",
       "version_major": 2,
       "version_minor": 0
      },
      "text/plain": [
       "interactive(children=(FloatSlider(value=5.0, description='width', max=10.0, min=0.5, step=0.5), IntSlider(valu…"
      ]
     },
     "metadata": {},
     "output_type": "display_data"
    },
    {
     "name": "stdout",
     "output_type": "stream",
     "text": [
      "click on modifying well and then only change the sliders\n"
     ]
    }
   ],
   "source": [
    "import numpy as np   #importing libraries for widgets annd computing\n",
    "from bqplot import pyplot as plt\n",
    "from ipywidgets import*\n",
    "from IPython.display import display\n",
    "\n",
    "def pot(c,wd,pot1):   ## it's a potential function\n",
    "    if(c<=-float(wd)/2 or c>=float(wd)/2 ):\n",
    "        return 0;\n",
    "    \n",
    "    \n",
    "    else:\n",
    "        return -pot1;\n",
    "N = 370   ## number of discrete space points \n",
    "def kdirac(i,j): ##dirac delta function\n",
    "    if(i==j):\n",
    "        return 1;\n",
    "    else:\n",
    "        return 0;\n",
    "x = np.linspace(-15,15,N) ## creating space array\n",
    "dx = x[2]-x[1]\n",
    "def hamil(i,j,VPO): ## defining hamiltonian functions\n",
    "    v =(-kdirac(i+1,j)+2*kdirac(i,j)-kdirac(i-1,j))/(dx**2) + kdirac(i,j)*VPO;\n",
    "    return v;\n",
    " \n",
    "\n",
    "figure = plt.figure(1)   ##creating figures\n",
    "figure.animation_duration = 1000\n",
    "figure.layout= {'width':'900px','height':'620px'}\n",
    "plt.clear()    \n",
    "plot = plt.plot(x,x)  ##it's just to create plot will edit in the f_main function \n",
    "\n",
    " \n",
    "plt.show()\n",
    "def destroy(WSD):  ##this will clear the figure\n",
    "    plt.clear()\n",
    "    plot = plt.plot(x,WSD)\n",
    "    return plot;\n",
    "\n",
    "\n",
    "def gh(EVe,EVal,N):  ##this function will plot the N eigen vectors and eigen values \n",
    "    print(\" Energy Eigen_Values are \" ,EVal[:N])\n",
    "\n",
    "    for i in range(0,N):\n",
    "             \n",
    "        vb =  ((EVe[:,i])*5)+EVal[i] +i*2  ## EVal[i] +i*2  term is added to shift the curve along y axis\n",
    "    \n",
    "        plt.plot(x,vb,colors = ['Green'])\n",
    "        \n",
    "\n",
    "        \n",
    "        \n",
    "#this is a masster function which will take data from the sliders and communicate with all functions in the cell  \n",
    "\n",
    "\n",
    "\n",
    "def f_main(width,V0,N_E,ctrl):  \n",
    "    global plot  \n",
    "    ##making plot as a global because we have defined this earlier so that figure doen't load again and again and intaerction runs smooth\n",
    "    \n",
    "    \n",
    "    pot_array = np.array([pot(x1,width,V0) for x1 in x])  ##it creates potential array by getting value from sliders\n",
    "   \n",
    "    plot.y = pot_array ##plotting potential array we just need to change y array of plot\n",
    "    \n",
    "    \n",
    "    Ham = np.zeros(N*N).reshape(N,N) ##creating hamiltonian matrix\n",
    "   \n",
    "    \n",
    "    if(ctrl == 1): \n",
    "        ## the condition is given when you click on plot button and because it takes time to load hamiltonian matrix when this  \n",
    "        ### is ssatisfied  then only we calculate hamiltonian in this section we do everythin like calculating vectors and plotting them too\n",
    "        for i in range(N):\n",
    "            for j in range(N): \n",
    "                Ham[i,j] = hamil(i,j,pot_array[i])\n",
    "        Eigval,Eigvect = np.linalg.eigh(Ham)\n",
    "\n",
    "        gh(Eigvect,Eigval,N_E); \n",
    "        #################################33\n",
    "        \n",
    "    elif(ctrl==2):  ## This condition will reset the plot\n",
    "                                 \n",
    "        plot = destroy(pot_array)\n",
    "\n",
    "        \n",
    "    else:\n",
    "        return;\n",
    "\n",
    "        \n",
    "        \n",
    "    \n",
    "        \n",
    "    \n",
    "ws = interactive(f_main,width = (0.5,10,0.5),V0=(1,150,2),  ##interactve function google it for more\n",
    "                 N_E = IntSlider(description = 'EigenVector numbers ',value = 10,max = 50,min = 0,layout = {'width':'600px'})\n",
    "                 ,ctrl = ToggleButtons(options=[('Modifying well',0),('plot',1), ('reset',2)],value = 0))    \n",
    "display(ws)\n",
    "\n",
    " \n",
    "    \n",
    "             \n",
    "\n",
    "    \n",
    "    \n",
    "print(\"click on modifying well and then only change the sliders\")\n",
    "    \n",
    "    \n",
    "\n",
    "    \n",
    "    "
   ]
  },
  {
   "cell_type": "markdown",
   "metadata": {},
   "source": [
    "## Edit on Binder\n",
    "\n",
    "[![Binder](https://mybinder.org/badge_logo.svg)](https://mybinder.org/v2/gh/SachinGupta7/TISE/master)"
   ]
  }
 ],
 "metadata": {
  "kernelspec": {
   "display_name": "Python 3",
   "language": "python",
   "name": "python3"
  },
  "language_info": {
   "codemirror_mode": {
    "name": "ipython",
    "version": 3
   },
   "file_extension": ".py",
   "mimetype": "text/x-python",
   "name": "python",
   "nbconvert_exporter": "python",
   "pygments_lexer": "ipython3",
   "version": "3.8.3"
  },
  "latex_envs": {
   "LaTeX_envs_menu_present": true,
   "autoclose": false,
   "autocomplete": false,
   "bibliofile": "biblio.bib",
   "cite_by": "apalike",
   "current_citInitial": 1,
   "eqLabelWithNumbers": true,
   "eqNumInitial": 1,
   "hotkeys": {
    "equation": "Ctrl-E",
    "itemize": "Ctrl-I"
   },
   "labels_anchors": false,
   "latex_user_defs": false,
   "report_style_numbering": false,
   "user_envs_cfg": false
  }
 },
 "nbformat": 4,
 "nbformat_minor": 2
}
